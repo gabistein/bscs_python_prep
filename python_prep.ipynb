{
 "cells": [
  {
   "cell_type": "code",
   "execution_count": 1,
   "id": "5c08fb88-9a56-4238-a0ab-37b6e4d51bf0",
   "metadata": {},
   "outputs": [],
   "source": [
    "class Student:\n",
    "  def __init__(self, id, first_name, last_name, email, gpa):\n",
    "    self.id = id\n",
    "    self.first_name = first_name\n",
    "    self.last_name = last_name\n",
    "    self.email = email\n",
    "    self.gpa = float(gpa)  # Convert GPA string to float\n",
    "\n",
    "  def get_id(self):\n",
    "    return self.id\n",
    "\n",
    "  def get_first_name(self):\n",
    "    return self.first_name\n",
    "\n",
    "  def get_last_name(self):\n",
    "    return self.last_name\n",
    "\n",
    "  def get_email(self):\n",
    "    return self.email\n",
    "\n",
    "  def get_gpa(self):\n",
    "    return self.gpa\n",
    "\n",
    "  def set_first_name(self, first_name):\n",
    "    self.first_name = first_name\n",
    "\n",
    "  def set_last_name(self, last_name):\n",
    "    self.last_name = last_name\n",
    "\n",
    "  def set_email(self, email):\n",
    "    self.email = email\n",
    "\n",
    "  def __str__(self):\n",
    "    return f\"Id = {self.id}, First = {self.first_name}, Last = {self.last_name}, Email = {self.email}, GPA = {self.gpa:.1f}\"  # Format GPA with one decimal place\n",
    "\n"
   ]
  },
  {
   "cell_type": "code",
   "execution_count": 11,
   "id": "f5902ed3-0495-47d1-8e6f-9bcd597100e5",
   "metadata": {},
   "outputs": [],
   "source": [
    "def read_data(filename):\n",
    "  students = []\n",
    "  with open(filename, 'r') as file:\n",
    "    num_students = int(file.readline())  # Read number of students\n",
    "    file.readline()  # Skip header\n",
    "\n",
    "\n",
    "    for _ in range(num_students):\n",
    "      line = file.readline().strip().split(',')\n",
    "      students.append(Student(line[0], line[1], line[2], line[3], line[4]))\n",
    "\n",
    "  return students\n",
    "\n",
    "\n",
    "def find_shortest_first_name(students):\n",
    "  shortest_name = students[0].get_first_name()\n",
    "  for student in students:\n",
    "    if len(student.get_first_name()) < len(shortest_name):\n",
    "      shortest_name = student.get_first_name()\n",
    "  return shortest_name\n",
    "\n",
    "\n",
    "def calculate_average_gpa(students):\n",
    "  total_gpa = 0\n",
    "  for student in students:\n",
    "    total_gpa += student.get_gpa()\n",
    "  return total_gpa / len(students)\n",
    "\n",
    "\n"
   ]
  },
  {
   "cell_type": "code",
   "execution_count": 12,
   "id": "6e4bccf0-ce24-4f45-b30d-ea1b81caa48a",
   "metadata": {},
   "outputs": [
    {
     "name": "stdout",
     "output_type": "stream",
     "text": [
      "First student: Id = 717545, First = Lars, Last = Kirlin, Email = lkirlin0@ca.gov, GPA = 4.0\n",
      "Last student: Id = 190161, First = Antoni, Last = Tyne, Email = atynerr@elpais.com, GPA = 3.2\n",
      "Shortest first name: Ly\n",
      "Average GPA: 2.5\n"
     ]
    }
   ],
   "source": [
    "def main():\n",
    "  filename = \"StudentData.csv\"\n",
    "  students = read_data(filename)\n",
    "\n",
    "  shortest_name = find_shortest_first_name(students)\n",
    "  average_gpa = calculate_average_gpa(students)\n",
    "\n",
    "  print(\"First student:\", students[0])\n",
    "  print(\"Last student:\", students[-1])\n",
    "  print(\"Shortest first name:\", shortest_name)\n",
    "  print(f\"Average GPA: {average_gpa:.1f}\")\n",
    "\n",
    "\n",
    "if __name__ == \"__main__\":\n",
    "  main()\n"
   ]
  },
  {
   "cell_type": "code",
   "execution_count": null,
   "id": "6836767b-e866-493c-a5ca-f1457586c7e0",
   "metadata": {},
   "outputs": [],
   "source": []
  }
 ],
 "metadata": {
  "kernelspec": {
   "display_name": "Python 3 (ipykernel)",
   "language": "python",
   "name": "python3"
  },
  "language_info": {
   "codemirror_mode": {
    "name": "ipython",
    "version": 3
   },
   "file_extension": ".py",
   "mimetype": "text/x-python",
   "name": "python",
   "nbconvert_exporter": "python",
   "pygments_lexer": "ipython3",
   "version": "3.9.6"
  }
 },
 "nbformat": 4,
 "nbformat_minor": 5
}
